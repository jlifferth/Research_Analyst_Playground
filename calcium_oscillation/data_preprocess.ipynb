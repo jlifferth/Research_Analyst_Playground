{
 "cells": [
  {
   "cell_type": "code",
   "execution_count": 1,
   "id": "a1b30dde",
   "metadata": {},
   "outputs": [],
   "source": [
    "import pandas as pd"
   ]
  },
  {
   "cell_type": "code",
   "execution_count": 2,
   "id": "58ee80c7",
   "metadata": {},
   "outputs": [],
   "source": [
    "path = 'A375_2_week_PLX.csv/Data (full)-Table 1.csv'\n",
    "df = pd.read_csv(path)"
   ]
  },
  {
   "cell_type": "code",
   "execution_count": 3,
   "id": "97c66270",
   "metadata": {
    "scrolled": true
   },
   "outputs": [
    {
     "data": {
      "text/html": [
       "<div>\n",
       "<style scoped>\n",
       "    .dataframe tbody tr th:only-of-type {\n",
       "        vertical-align: middle;\n",
       "    }\n",
       "\n",
       "    .dataframe tbody tr th {\n",
       "        vertical-align: top;\n",
       "    }\n",
       "\n",
       "    .dataframe thead th {\n",
       "        text-align: right;\n",
       "    }\n",
       "</style>\n",
       "<table border=\"1\" class=\"dataframe\">\n",
       "  <thead>\n",
       "    <tr style=\"text-align: right;\">\n",
       "      <th></th>\n",
       "      <th>Name</th>\n",
       "      <th>Time [h:m:s]</th>\n",
       "      <th>ND.T</th>\n",
       "      <th>ND.Z</th>\n",
       "      <th>ND.M</th>\n",
       "      <th>ROI ID</th>\n",
       "      <th>Intensity(340)</th>\n",
       "      <th>StDev(340)</th>\n",
       "      <th>Area Fraction(340)</th>\n",
       "      <th>Intensity(380)</th>\n",
       "      <th>StDev(380)</th>\n",
       "      <th>Area Fraction(380)</th>\n",
       "      <th>ROI Area [µm²]</th>\n",
       "      <th>Center X</th>\n",
       "      <th>Center Y</th>\n",
       "      <th>Ratio 340/380</th>\n",
       "    </tr>\n",
       "  </thead>\n",
       "  <tbody>\n",
       "    <tr>\n",
       "      <th>0</th>\n",
       "      <td>A375_2_week_PLX.nd2</td>\n",
       "      <td>0:00:00</td>\n",
       "      <td>1</td>\n",
       "      <td>-1</td>\n",
       "      <td>-1</td>\n",
       "      <td>2</td>\n",
       "      <td>284.73</td>\n",
       "      <td>88.79</td>\n",
       "      <td>0.5</td>\n",
       "      <td>572.01</td>\n",
       "      <td>250.72</td>\n",
       "      <td>1</td>\n",
       "      <td>406.56</td>\n",
       "      <td>14</td>\n",
       "      <td>156</td>\n",
       "      <td>0.543</td>\n",
       "    </tr>\n",
       "    <tr>\n",
       "      <th>1</th>\n",
       "      <td>A375_2_week_PLX.nd2</td>\n",
       "      <td>0:00:05</td>\n",
       "      <td>2</td>\n",
       "      <td>-1</td>\n",
       "      <td>-1</td>\n",
       "      <td>2</td>\n",
       "      <td>283.00</td>\n",
       "      <td>86.19</td>\n",
       "      <td>0.5</td>\n",
       "      <td>565.56</td>\n",
       "      <td>243.76</td>\n",
       "      <td>1</td>\n",
       "      <td>406.56</td>\n",
       "      <td>14</td>\n",
       "      <td>156</td>\n",
       "      <td>0.543</td>\n",
       "    </tr>\n",
       "    <tr>\n",
       "      <th>2</th>\n",
       "      <td>A375_2_week_PLX.nd2</td>\n",
       "      <td>0:00:10</td>\n",
       "      <td>3</td>\n",
       "      <td>-1</td>\n",
       "      <td>-1</td>\n",
       "      <td>2</td>\n",
       "      <td>282.49</td>\n",
       "      <td>86.86</td>\n",
       "      <td>0.5</td>\n",
       "      <td>561.46</td>\n",
       "      <td>242.05</td>\n",
       "      <td>1</td>\n",
       "      <td>406.56</td>\n",
       "      <td>14</td>\n",
       "      <td>156</td>\n",
       "      <td>0.545</td>\n",
       "    </tr>\n",
       "    <tr>\n",
       "      <th>3</th>\n",
       "      <td>A375_2_week_PLX.nd2</td>\n",
       "      <td>0:00:15</td>\n",
       "      <td>4</td>\n",
       "      <td>-1</td>\n",
       "      <td>-1</td>\n",
       "      <td>2</td>\n",
       "      <td>284.21</td>\n",
       "      <td>88.57</td>\n",
       "      <td>0.5</td>\n",
       "      <td>562.50</td>\n",
       "      <td>245.81</td>\n",
       "      <td>1</td>\n",
       "      <td>406.56</td>\n",
       "      <td>14</td>\n",
       "      <td>156</td>\n",
       "      <td>0.551</td>\n",
       "    </tr>\n",
       "    <tr>\n",
       "      <th>4</th>\n",
       "      <td>A375_2_week_PLX.nd2</td>\n",
       "      <td>0:00:20</td>\n",
       "      <td>5</td>\n",
       "      <td>-1</td>\n",
       "      <td>-1</td>\n",
       "      <td>2</td>\n",
       "      <td>280.58</td>\n",
       "      <td>83.45</td>\n",
       "      <td>0.5</td>\n",
       "      <td>570.35</td>\n",
       "      <td>250.56</td>\n",
       "      <td>1</td>\n",
       "      <td>406.56</td>\n",
       "      <td>14</td>\n",
       "      <td>156</td>\n",
       "      <td>0.542</td>\n",
       "    </tr>\n",
       "  </tbody>\n",
       "</table>\n",
       "</div>"
      ],
      "text/plain": [
       "                  Name Time [h:m:s]  ND.T  ND.Z  ND.M  ROI ID  Intensity(340)  \\\n",
       "0  A375_2_week_PLX.nd2      0:00:00     1    -1    -1       2          284.73   \n",
       "1  A375_2_week_PLX.nd2      0:00:05     2    -1    -1       2          283.00   \n",
       "2  A375_2_week_PLX.nd2      0:00:10     3    -1    -1       2          282.49   \n",
       "3  A375_2_week_PLX.nd2      0:00:15     4    -1    -1       2          284.21   \n",
       "4  A375_2_week_PLX.nd2      0:00:20     5    -1    -1       2          280.58   \n",
       "\n",
       "   StDev(340)  Area Fraction(340)  Intensity(380)  StDev(380)  \\\n",
       "0       88.79                 0.5          572.01      250.72   \n",
       "1       86.19                 0.5          565.56      243.76   \n",
       "2       86.86                 0.5          561.46      242.05   \n",
       "3       88.57                 0.5          562.50      245.81   \n",
       "4       83.45                 0.5          570.35      250.56   \n",
       "\n",
       "   Area Fraction(380)  ROI Area [µm²]  Center X  Center Y  Ratio 340/380  \n",
       "0                   1          406.56        14       156          0.543  \n",
       "1                   1          406.56        14       156          0.543  \n",
       "2                   1          406.56        14       156          0.545  \n",
       "3                   1          406.56        14       156          0.551  \n",
       "4                   1          406.56        14       156          0.542  "
      ]
     },
     "execution_count": 3,
     "metadata": {},
     "output_type": "execute_result"
    }
   ],
   "source": [
    "df.head()"
   ]
  },
  {
   "cell_type": "code",
   "execution_count": 9,
   "id": "92ceb089",
   "metadata": {},
   "outputs": [
    {
     "data": {
      "text/plain": [
       "Index(['Name', 'Time [h:m:s]', 'ND.T', 'ND.Z', 'ND.M', 'ROI ID',\n",
       "       'Intensity(340)', 'StDev(340)', 'Area Fraction(340)', 'Intensity(380)',\n",
       "       'StDev(380)', 'Area Fraction(380)', 'ROI Area [µm²]', 'Center X',\n",
       "       'Center Y', 'Ratio 340/380'],\n",
       "      dtype='object')"
      ]
     },
     "execution_count": 9,
     "metadata": {},
     "output_type": "execute_result"
    }
   ],
   "source": [
    "old_cols = df.columns\n",
    "old_cols"
   ]
  },
  {
   "cell_type": "code",
   "execution_count": 7,
   "id": "639261cc",
   "metadata": {},
   "outputs": [],
   "source": [
    "df_out = df[['ROI ID', 'Time [h:m:s]', 'Ratio 340/380']].copy()"
   ]
  },
  {
   "cell_type": "code",
   "execution_count": 14,
   "id": "4b24d165",
   "metadata": {},
   "outputs": [],
   "source": [
    "df_out.to_csv('clean_ratios.csv')"
   ]
  },
  {
   "cell_type": "code",
   "execution_count": 10,
   "id": "831fe028",
   "metadata": {},
   "outputs": [],
   "source": [
    "new_cols = df_out.columns"
   ]
  },
  {
   "cell_type": "code",
   "execution_count": 13,
   "id": "77030e30",
   "metadata": {},
   "outputs": [
    {
     "data": {
      "text/plain": [
       "882"
      ]
     },
     "execution_count": 13,
     "metadata": {},
     "output_type": "execute_result"
    }
   ],
   "source": [
    "len(df_out[new_cols[0]].unique())"
   ]
  },
  {
   "cell_type": "code",
   "execution_count": 23,
   "id": "91b4dc0b",
   "metadata": {},
   "outputs": [
    {
     "data": {
      "text/plain": [
       "0           2\n",
       "1           2\n",
       "2           2\n",
       "3           2\n",
       "4           2\n",
       "         ... \n",
       "637681    969\n",
       "637682    969\n",
       "637683    969\n",
       "637684    969\n",
       "637685    969\n",
       "Name: ROI ID, Length: 637686, dtype: int64"
      ]
     },
     "execution_count": 23,
     "metadata": {},
     "output_type": "execute_result"
    }
   ],
   "source": [
    "df_out[new_cols[0]]"
   ]
  }
 ],
 "metadata": {
  "kernelspec": {
   "display_name": "Python 3 (ipykernel)",
   "language": "python",
   "name": "python3"
  },
  "language_info": {
   "codemirror_mode": {
    "name": "ipython",
    "version": 3
   },
   "file_extension": ".py",
   "mimetype": "text/x-python",
   "name": "python",
   "nbconvert_exporter": "python",
   "pygments_lexer": "ipython3",
   "version": "3.8.8"
  }
 },
 "nbformat": 4,
 "nbformat_minor": 5
}
