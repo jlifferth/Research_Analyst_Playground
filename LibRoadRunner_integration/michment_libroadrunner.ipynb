{
 "cells": [
  {
   "cell_type": "code",
   "execution_count": 1,
   "id": "eebdc36c",
   "metadata": {},
   "outputs": [],
   "source": [
    "from pysb import *"
   ]
  },
  {
   "cell_type": "code",
   "execution_count": 2,
   "id": "c07c0ea0",
   "metadata": {},
   "outputs": [
    {
     "data": {
      "text/plain": [
       "<Model '_interactive_' (monomers: 0, rules: 0, parameters: 0, expressions: 0, compartments: 0) at 0x7fb6af39e880>"
      ]
     },
     "execution_count": 2,
     "metadata": {},
     "output_type": "execute_result"
    }
   ],
   "source": [
    "Model()"
   ]
  },
  {
   "cell_type": "code",
   "execution_count": 3,
   "id": "d7ad0e98",
   "metadata": {},
   "outputs": [
    {
     "data": {
      "text/plain": [
       "Monomer('enzyme', ['binding1'])"
      ]
     },
     "execution_count": 3,
     "metadata": {},
     "output_type": "execute_result"
    }
   ],
   "source": [
    "Monomer('enzyme', ['binding1'])"
   ]
  },
  {
   "cell_type": "code",
   "execution_count": 4,
   "id": "943405da",
   "metadata": {},
   "outputs": [
    {
     "data": {
      "text/plain": [
       "Monomer('protein', ['binding', 'state'], {'state': ['sub', 'pro']})"
      ]
     },
     "execution_count": 4,
     "metadata": {},
     "output_type": "execute_result"
    }
   ],
   "source": [
    "Monomer('protein', ['binding', 'state'], {'state': ['sub','pro']})\n"
   ]
  },
  {
   "cell_type": "code",
   "execution_count": 5,
   "id": "e9d8b1f4",
   "metadata": {},
   "outputs": [
    {
     "data": {
      "text/latex": [
       "$\\displaystyle kc$"
      ],
      "text/plain": [
       "Parameter('kc', 0.002)"
      ]
     },
     "execution_count": 5,
     "metadata": {},
     "output_type": "execute_result"
    }
   ],
   "source": [
    "Parameter('kf',0.003)\n",
    "Parameter('kr',0.001)\n",
    "Parameter('kc',0.002)\n"
   ]
  },
  {
   "cell_type": "code",
   "execution_count": 6,
   "id": "54e7d557",
   "metadata": {},
   "outputs": [
    {
     "data": {
      "text/plain": [
       "Rule('binding', enzyme(binding1=None) + protein(binding=None, state='sub') | enzyme(binding1=1) % protein(binding=1, state='sub'), kf, kr)"
      ]
     },
     "execution_count": 6,
     "metadata": {},
     "output_type": "execute_result"
    }
   ],
   "source": [
    "Rule('binding', enzyme(binding1=None) + protein(state='sub', binding=None)\n",
    "     | enzyme(binding1=1) % protein(state='sub', binding=1), kf, kr)\n"
   ]
  },
  {
   "cell_type": "code",
   "execution_count": 7,
   "id": "82cade73",
   "metadata": {},
   "outputs": [
    {
     "data": {
      "text/plain": [
       "Rule('dissociation', enzyme(binding1=1) % protein(binding=1, state='sub') >> enzyme(binding1=None) + protein(binding=None, state='pro'), kc)"
      ]
     },
     "execution_count": 7,
     "metadata": {},
     "output_type": "execute_result"
    }
   ],
   "source": [
    "Rule('dissociation', enzyme(binding1=1) % protein(state='sub', binding=1) \n",
    "     >> enzyme(binding1=None) + protein(state='pro', binding=None), kc)"
   ]
  },
  {
   "cell_type": "code",
   "execution_count": 8,
   "id": "0a3f3860",
   "metadata": {},
   "outputs": [
    {
     "data": {
      "text/plain": [
       "Initial(protein(binding=None, state='sub'), protein_0)"
      ]
     },
     "execution_count": 8,
     "metadata": {},
     "output_type": "execute_result"
    }
   ],
   "source": [
    "Parameter('enzyme_0', 100)\n",
    "Parameter('protein_0', 50)\n",
    "Initial(enzyme(binding1=None), enzyme_0 )\n",
    "Initial(protein(binding=None, state='sub') , protein_0)"
   ]
  },
  {
   "cell_type": "code",
   "execution_count": 9,
   "id": "d9264f61",
   "metadata": {},
   "outputs": [
    {
     "data": {
      "text/latex": [
       "$\\displaystyle complex$"
      ],
      "text/plain": [
       "Observable('complex', enzyme(binding1=1) % protein(binding=1, state='sub'))"
      ]
     },
     "execution_count": 9,
     "metadata": {},
     "output_type": "execute_result"
    }
   ],
   "source": [
    "Observable('e_total', enzyme())\n",
    "Observable('e_free', enzyme(binding1=None))\n",
    "Observable('substrate', protein(binding=None, state='sub'))\n",
    "Observable('product', protein(binding=None, state='pro'))\n",
    "Observable('complex', enzyme(binding1=1) % \n",
    "           protein(binding=1, state='sub'))"
   ]
  },
  {
   "cell_type": "code",
   "execution_count": 10,
   "id": "9cd5763a",
   "metadata": {},
   "outputs": [],
   "source": [
    "import roadrunner\n",
    "rr = roadrunner.RoadRunner()"
   ]
  },
  {
   "cell_type": "code",
   "execution_count": 11,
   "id": "d2293e7d",
   "metadata": {},
   "outputs": [],
   "source": [
    "from pysb import export"
   ]
  },
  {
   "cell_type": "code",
   "execution_count": 12,
   "id": "cfa67c1a",
   "metadata": {},
   "outputs": [],
   "source": [
    "import libsbml\n"
   ]
  },
  {
   "cell_type": "code",
   "execution_count": 13,
   "id": "db81e9f3",
   "metadata": {},
   "outputs": [],
   "source": [
    "sbml_model = export.export(model, 'sbml')"
   ]
  },
  {
   "cell_type": "code",
   "execution_count": 14,
   "id": "5d4696ca",
   "metadata": {},
   "outputs": [],
   "source": [
    "rr = roadrunner.RoadRunner(sbml_model)\n",
    "rr_result = rr.simulate(0, 100, 100)"
   ]
  },
  {
   "cell_type": "code",
   "execution_count": 15,
   "id": "f15a3ad8",
   "metadata": {},
   "outputs": [
    {
     "data": {
      "image/png": "[encoded data removed]",
      "text/plain": [
       "<Figure size 432x288 with 1 Axes>"
      ]
     },
     "metadata": {
      "needs_background": "light"
     },
     "output_type": "display_data"
    },
    {
     "data": {
      "text/plain": [
       "[[<matplotlib.lines.Line2D at 0x7fb6970afca0>],\n",
       " [<matplotlib.lines.Line2D at 0x7fb6970affa0>],\n",
       " [<matplotlib.lines.Line2D at 0x7fb6970ca370>],\n",
       " [<matplotlib.lines.Line2D at 0x7fb6970ca700>]]"
      ]
     },
     "execution_count": 15,
     "metadata": {},
     "output_type": "execute_result"
    }
   ],
   "source": [
    "rr.plot(rr_result)\n"
   ]
  }
 ],
 "metadata": {
  "kernelspec": {
   "display_name": "Python 3 (ipykernel)",
   "language": "python",
   "name": "python3"
  },
  "language_info": {
   "codemirror_mode": {
    "name": "ipython",
    "version": 3
   },
   "file_extension": ".py",
   "mimetype": "text/x-python",
   "name": "python",
   "nbconvert_exporter": "python",
   "pygments_lexer": "ipython3",
   "version": "3.9.6"
  }
 },
 "nbformat": 4,
 "nbformat_minor": 5
}
