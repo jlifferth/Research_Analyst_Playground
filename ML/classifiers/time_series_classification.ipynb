{
 "cells": [
  {
   "cell_type": "code",
   "execution_count": 1,
   "id": "9ab4fb89",
   "metadata": {},
   "outputs": [],
   "source": [
    "from sklearn.model_selection import StratifiedKFold, cross_validate\n",
    "from sklearn.ensemble import RandomForestClassifier\n",
    "import numpy as np\n",
    "\n",
    "n_samples = 100\n",
    "\n",
    "# generates 2 n_samples random time series with integer values from 0 to 100.\n",
    "x1 = np.array([np.random.randint(0, 100, 5) for _ in range(n_samples)])\n",
    "x2 = np.array([np.random.randint(0, 100, 5) for _ in range(n_samples)])\n",
    "\n",
    "X = np.hstack((x1, x2))\n",
    "\n",
    "\n",
    "# generates n_samples random binary labels.\n",
    "y = np.random.randint(0, 2, n_samples)\n",
    "\n",
    "#Random Forest classifier\n",
    "clf=RandomForestClassifier(random_state = 42, class_weight=\"balanced\", criterion = 'gini', max_depth = 3, max_features = 'auto', n_estimators = 500)\n",
    "\n",
    "k_fold = StratifiedKFold(n_splits=10, shuffle=True, random_state=0)\n",
    "\n",
    "output = cross_validate(clf, X, y, cv=k_fold, scoring = 'roc_auc', return_estimator =True)"
   ]
  },
  {
   "cell_type": "code",
   "execution_count": 5,
   "id": "05802472",
   "metadata": {},
   "outputs": [
    {
     "name": "stdout",
     "output_type": "stream",
     "text": [
      "[[22 43 30 87 76 13 40 54 62 80]\n",
      " [54 64 71 92 73 99 61 87 41  2]\n",
      " [96 41 52  7 69 72 89 53 86 24]\n",
      " [23  5 47 38 57 52 36 34 27  3]\n",
      " [89 60 22 88 86  2 41 31 33 69]]\n"
     ]
    }
   ],
   "source": [
    "print(X[:5])"
   ]
  },
  {
   "cell_type": "code",
   "execution_count": 6,
   "id": "1f62d3bf",
   "metadata": {},
   "outputs": [
    {
     "data": {
      "text/plain": [
       "array([1, 0, 0, 1, 0])"
      ]
     },
     "execution_count": 6,
     "metadata": {},
     "output_type": "execute_result"
    }
   ],
   "source": [
    "y[:5]"
   ]
  },
  {
   "cell_type": "code",
   "execution_count": 8,
   "id": "1d5fdc63",
   "metadata": {},
   "outputs": [
    {
     "data": {
      "text/plain": [
       "{'fit_time': array([0.6535418 , 0.6530478 , 0.64880395, 0.64424229, 0.64716959,\n",
       "        0.64922976, 0.6494329 , 0.6467042 , 0.65425992, 0.6490202 ]),\n",
       " 'score_time': array([0.06060314, 0.05500627, 0.05407214, 0.05387092, 0.05409122,\n",
       "        0.05374527, 0.05819893, 0.05465698, 0.05700707, 0.05488276]),\n",
       " 'estimator': [RandomForestClassifier(class_weight='balanced', max_depth=3, n_estimators=500,\n",
       "                         random_state=42),\n",
       "  RandomForestClassifier(class_weight='balanced', max_depth=3, n_estimators=500,\n",
       "                         random_state=42),\n",
       "  RandomForestClassifier(class_weight='balanced', max_depth=3, n_estimators=500,\n",
       "                         random_state=42),\n",
       "  RandomForestClassifier(class_weight='balanced', max_depth=3, n_estimators=500,\n",
       "                         random_state=42),\n",
       "  RandomForestClassifier(class_weight='balanced', max_depth=3, n_estimators=500,\n",
       "                         random_state=42),\n",
       "  RandomForestClassifier(class_weight='balanced', max_depth=3, n_estimators=500,\n",
       "                         random_state=42),\n",
       "  RandomForestClassifier(class_weight='balanced', max_depth=3, n_estimators=500,\n",
       "                         random_state=42),\n",
       "  RandomForestClassifier(class_weight='balanced', max_depth=3, n_estimators=500,\n",
       "                         random_state=42),\n",
       "  RandomForestClassifier(class_weight='balanced', max_depth=3, n_estimators=500,\n",
       "                         random_state=42),\n",
       "  RandomForestClassifier(class_weight='balanced', max_depth=3, n_estimators=500,\n",
       "                         random_state=42)],\n",
       " 'test_score': array([0.76, 0.68, 0.52, 0.44, 0.64, 0.8 , 0.36, 0.6 , 0.6 , 0.56])}"
      ]
     },
     "execution_count": 8,
     "metadata": {},
     "output_type": "execute_result"
    }
   ],
   "source": [
    "output"
   ]
  }
 ],
 "metadata": {
  "kernelspec": {
   "display_name": "Python 3 (ipykernel)",
   "language": "python",
   "name": "python3"
  },
  "language_info": {
   "codemirror_mode": {
    "name": "ipython",
    "version": 3
   },
   "file_extension": ".py",
   "mimetype": "text/x-python",
   "name": "python",
   "nbconvert_exporter": "python",
   "pygments_lexer": "ipython3",
   "version": "3.8.8"
  }
 },
 "nbformat": 4,
 "nbformat_minor": 5
}
