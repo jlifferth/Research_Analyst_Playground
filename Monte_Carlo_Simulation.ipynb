{
  "nbformat": 4,
  "nbformat_minor": 0,
  "metadata": {
    "colab": {
      "name": "Monte Carlo Simulation.ipynb",
      "provenance": [],
      "collapsed_sections": [],
      "include_colab_link": true
    },
    "kernelspec": {
      "name": "python3",
      "display_name": "Python 3"
    },
    "language_info": {
      "name": "python"
    }
  },
  "cells": [
    {
      "cell_type": "markdown",
      "metadata": {
        "id": "view-in-github",
        "colab_type": "text"
      },
      "source": [
        "<a href=\"https://colab.research.google.com/github/jlifferth/Research_Analyst_Playground/blob/main/Monte_Carlo_Simulation.ipynb\" target=\"_parent\"><img src=\"https://colab.research.google.com/assets/colab-badge.svg\" alt=\"Open In Colab\"/></a>"
      ]
    },
    {
      "cell_type": "code",
      "source": [
        "import pandas as pd\n",
        "\n",
        "# Visualization\n",
        "import matplotlib.pyplot as plt\n",
        "import seaborn as sns\n",
        "sns.set()\n",
        "\n",
        "# Numbers\n",
        "import numpy as np\n",
        "import scipy.stats as scs"
      ],
      "metadata": {
        "id": "IcIwlITNOA3P"
      },
      "execution_count": 1,
      "outputs": []
    },
    {
      "cell_type": "code",
      "execution_count": 2,
      "metadata": {
        "id": "xN9N2EghLl3M",
        "colab": {
          "base_uri": "https://localhost:8080/",
          "height": 111
        },
        "outputId": "dffaa641-e9ce-4187-8c6a-20793568669f"
      },
      "outputs": [
        {
          "output_type": "execute_result",
          "data": {
            "text/plain": [
              "  wkday  customers\n",
              "0   Mon        171\n",
              "1   Tue        163"
            ],
            "text/html": [
              "\n",
              "  <div id=\"df-fc5506ba-31c8-4563-afc9-19f16cd90d1f\">\n",
              "    <div class=\"colab-df-container\">\n",
              "      <div>\n",
              "<style scoped>\n",
              "    .dataframe tbody tr th:only-of-type {\n",
              "        vertical-align: middle;\n",
              "    }\n",
              "\n",
              "    .dataframe tbody tr th {\n",
              "        vertical-align: top;\n",
              "    }\n",
              "\n",
              "    .dataframe thead th {\n",
              "        text-align: right;\n",
              "    }\n",
              "</style>\n",
              "<table border=\"1\" class=\"dataframe\">\n",
              "  <thead>\n",
              "    <tr style=\"text-align: right;\">\n",
              "      <th></th>\n",
              "      <th>wkday</th>\n",
              "      <th>customers</th>\n",
              "    </tr>\n",
              "  </thead>\n",
              "  <tbody>\n",
              "    <tr>\n",
              "      <th>0</th>\n",
              "      <td>Mon</td>\n",
              "      <td>171</td>\n",
              "    </tr>\n",
              "    <tr>\n",
              "      <th>1</th>\n",
              "      <td>Tue</td>\n",
              "      <td>163</td>\n",
              "    </tr>\n",
              "  </tbody>\n",
              "</table>\n",
              "</div>\n",
              "      <button class=\"colab-df-convert\" onclick=\"convertToInteractive('df-fc5506ba-31c8-4563-afc9-19f16cd90d1f')\"\n",
              "              title=\"Convert this dataframe to an interactive table.\"\n",
              "              style=\"display:none;\">\n",
              "        \n",
              "  <svg xmlns=\"http://www.w3.org/2000/svg\" height=\"24px\"viewBox=\"0 0 24 24\"\n",
              "       width=\"24px\">\n",
              "    <path d=\"M0 0h24v24H0V0z\" fill=\"none\"/>\n",
              "    <path d=\"M18.56 5.44l.94 2.06.94-2.06 2.06-.94-2.06-.94-.94-2.06-.94 2.06-2.06.94zm-11 1L8.5 8.5l.94-2.06 2.06-.94-2.06-.94L8.5 2.5l-.94 2.06-2.06.94zm10 10l.94 2.06.94-2.06 2.06-.94-2.06-.94-.94-2.06-.94 2.06-2.06.94z\"/><path d=\"M17.41 7.96l-1.37-1.37c-.4-.4-.92-.59-1.43-.59-.52 0-1.04.2-1.43.59L10.3 9.45l-7.72 7.72c-.78.78-.78 2.05 0 2.83L4 21.41c.39.39.9.59 1.41.59.51 0 1.02-.2 1.41-.59l7.78-7.78 2.81-2.81c.8-.78.8-2.07 0-2.86zM5.41 20L4 18.59l7.72-7.72 1.47 1.35L5.41 20z\"/>\n",
              "  </svg>\n",
              "      </button>\n",
              "      \n",
              "  <style>\n",
              "    .colab-df-container {\n",
              "      display:flex;\n",
              "      flex-wrap:wrap;\n",
              "      gap: 12px;\n",
              "    }\n",
              "\n",
              "    .colab-df-convert {\n",
              "      background-color: #E8F0FE;\n",
              "      border: none;\n",
              "      border-radius: 50%;\n",
              "      cursor: pointer;\n",
              "      display: none;\n",
              "      fill: #1967D2;\n",
              "      height: 32px;\n",
              "      padding: 0 0 0 0;\n",
              "      width: 32px;\n",
              "    }\n",
              "\n",
              "    .colab-df-convert:hover {\n",
              "      background-color: #E2EBFA;\n",
              "      box-shadow: 0px 1px 2px rgba(60, 64, 67, 0.3), 0px 1px 3px 1px rgba(60, 64, 67, 0.15);\n",
              "      fill: #174EA6;\n",
              "    }\n",
              "\n",
              "    [theme=dark] .colab-df-convert {\n",
              "      background-color: #3B4455;\n",
              "      fill: #D2E3FC;\n",
              "    }\n",
              "\n",
              "    [theme=dark] .colab-df-convert:hover {\n",
              "      background-color: #434B5C;\n",
              "      box-shadow: 0px 1px 3px 1px rgba(0, 0, 0, 0.15);\n",
              "      filter: drop-shadow(0px 1px 2px rgba(0, 0, 0, 0.3));\n",
              "      fill: #FFFFFF;\n",
              "    }\n",
              "  </style>\n",
              "\n",
              "      <script>\n",
              "        const buttonEl =\n",
              "          document.querySelector('#df-fc5506ba-31c8-4563-afc9-19f16cd90d1f button.colab-df-convert');\n",
              "        buttonEl.style.display =\n",
              "          google.colab.kernel.accessAllowed ? 'block' : 'none';\n",
              "\n",
              "        async function convertToInteractive(key) {\n",
              "          const element = document.querySelector('#df-fc5506ba-31c8-4563-afc9-19f16cd90d1f');\n",
              "          const dataTable =\n",
              "            await google.colab.kernel.invokeFunction('convertToInteractive',\n",
              "                                                     [key], {});\n",
              "          if (!dataTable) return;\n",
              "\n",
              "          const docLinkHtml = 'Like what you see? Visit the ' +\n",
              "            '<a target=\"_blank\" href=https://colab.research.google.com/notebooks/data_table.ipynb>data table notebook</a>'\n",
              "            + ' to learn more about interactive tables.';\n",
              "          element.innerHTML = '';\n",
              "          dataTable['output_type'] = 'display_data';\n",
              "          await google.colab.output.renderOutput(dataTable, element);\n",
              "          const docLink = document.createElement('div');\n",
              "          docLink.innerHTML = docLinkHtml;\n",
              "          element.appendChild(docLink);\n",
              "        }\n",
              "      </script>\n",
              "    </div>\n",
              "  </div>\n",
              "  "
            ]
          },
          "metadata": {},
          "execution_count": 2
        }
      ],
      "source": [
        "# 90 Days of Clients\n",
        "customers = [171, 163, 170, 153, 247, 251, 213, 163, 233, 277, 197, 175, 165, 200, 155, 238, 260, 183, 253, 199, 299, 236, 207, 147 ,219, 238, 234, 256, 177, 160, 143, 188, 241, 230, 234, 143, 152,\n",
        "201, 241, 180, 153, 144, 163, 196, 103, 177, 209, 254, 240, 203, 191, 105, 178, 219,263, 241, 183, 176, 161, 167, 291, 179, 273, 186, 239, 192, 199 ,192, 121, 270, 182, 196, 162,187, 177,\n",
        "168, 201, 143, 185, 228, 217, 149, 238, 177, 201, 220, 182, 190, 193, 186]\n",
        "\n",
        "# Customers by weekday \n",
        "df_cust = pd.DataFrame(list(zip(['Mon', 'Tue', 'Wed', 'Thu', 'Fri', 'Sat', 'Sun']*72, customers)),\n",
        "                       columns=['wkday', 'customers'])\n",
        "\n",
        "df_cust.head(2)"
      ]
    },
    {
      "cell_type": "code",
      "source": [
        "# Histogram of customers\n",
        "sns.histplot(customers)\n",
        "plt.title('Histogram of Customers');"
      ],
      "metadata": {
        "colab": {
          "base_uri": "https://localhost:8080/",
          "height": 284
        },
        "id": "tDy-HXErN6ZX",
        "outputId": "71854078-be39-4e57-dfa9-f78a3e45176f"
      },
      "execution_count": 3,
      "outputs": [
        {
          "output_type": "display_data",
          "data": {
            "text/plain": [
              "<Figure size 432x288 with 1 Axes>"
            ],
            "image/png": "[encoded data removed]"
          },
          "metadata": {
            "needs_background": "light"
          }
        }
      ]
    },
    {
      "cell_type": "code",
      "source": [
        "# Calculating Means and Std\n",
        "means = []\n",
        "stdevs = []\n",
        "for day in ['Mon', 'Tue', 'Wed', 'Thu', 'Fri', 'Sat', 'Sun']:\n",
        "  m = df_cust.query('wkday == @day')['customers'].mean()\n",
        "  means.append(m)\n",
        "  sd = df_cust.query('wkday == @day')['customers'].std()\n",
        "  stdevs.append(sd)"
      ],
      "metadata": {
        "id": "rOyel93groTv"
      },
      "execution_count": 4,
      "outputs": []
    },
    {
      "cell_type": "code",
      "source": [
        "# Calculating CDF from each distribution\n",
        "cdf_mon = scs.norm.cdf(df_cust.query('wkday == \"Mon\"')['customers'], loc=means[0], scale=stdevs[0])\n",
        "cdf_tue = scs.norm.cdf(df_cust.query('wkday == \"Tue\"')['customers'], loc=means[1], scale=stdevs[1])\n",
        "cdf_wed = scs.norm.cdf(df_cust.query('wkday == \"Wed\"')['customers'], loc=means[2], scale=stdevs[2])\n",
        "cdf_thu = scs.norm.cdf(df_cust.query('wkday == \"Thu\"')['customers'], loc=means[3], scale=stdevs[3])\n",
        "cdf_fri = scs.norm.cdf(df_cust.query('wkday == \"Fri\"')['customers'], loc=means[4], scale=stdevs[4])\n",
        "cdf_sat = scs.norm.cdf(df_cust.query('wkday == \"Sat\"')['customers'], loc=means[5], scale=stdevs[5])\n",
        "cdf_sun = scs.norm.cdf(df_cust.query('wkday == \"Sun\"')['customers'], loc=means[6], scale=stdevs[6])"
      ],
      "metadata": {
        "id": "CouXH0uXOhmj"
      },
      "execution_count": 5,
      "outputs": []
    },
    {
      "cell_type": "code",
      "source": [
        "fig, ax = plt.subplots(1, 7, figsize=(20,4))\n",
        "#Plot CDF\n",
        "for i, data, cdf, day in [(0, df_cust.query('wkday == \"Mon\"')['customers'], cdf_mon, 'Mon'), \n",
        "                  (1, df_cust.query('wkday == \"Tue\"')['customers'], cdf_tue, 'Tue'),\n",
        "                  (2, df_cust.query('wkday == \"Wed\"')['customers'], cdf_wed, 'Wed'),\n",
        "                  (3, df_cust.query('wkday == \"Thu\"')['customers'], cdf_thu, 'Thu'),\n",
        "                  (4, df_cust.query('wkday == \"Fri\"')['customers'], cdf_fri, 'Fri'), \n",
        "                  (5, df_cust.query('wkday == \"Sat\"')['customers'], cdf_sat, 'Sat'),\n",
        "                  (6, df_cust.query('wkday == \"Sun\"')['customers'], cdf_sun, 'Sun')]:\n",
        "\n",
        "  g = sns.lineplot(x=data, y=cdf, ax=ax[i])\n",
        "  g.set_title(f'CDF of {day}');\n",
        "  \n"
      ],
      "metadata": {
        "colab": {
          "base_uri": "https://localhost:8080/",
          "height": 194
        },
        "id": "t2_eE5jnPGZa",
        "outputId": "32bafca8-ff60-43ac-896e-56cdc8424ac0"
      },
      "execution_count": 6,
      "outputs": [
        {
          "output_type": "display_data",
          "data": {
            "text/plain": [
              "<Figure size 1440x288 with 7 Axes>"
            ],
            "image/png": "[encoded data removed]"
          },
          "metadata": {
            "needs_background": "light"
          }
        }
      ]
    },
    {
      "cell_type": "markdown",
      "source": [
        "### Simulating\n",
        "\n",
        "Now let's simulate the attendance for 500 evenings, based on the original distribution."
      ],
      "metadata": {
        "id": "zgKuXW2qKdzU"
      }
    },
    {
      "cell_type": "code",
      "source": [
        "def mcs(simulations):\n",
        "  \"Provide integer with number of simulations and the function returns an array and histogram with the results\"\n",
        "  # dictionary to store results\n",
        "  results = {}\n",
        "\n",
        "  # Loop Weekday\n",
        "  for i,day in enumerate(['Mon', 'Tue', 'Wed', 'Thu', 'Fri', 'Sat', 'Sun']):\n",
        "    # List store the results for the day\n",
        "    day_sim = []\n",
        "    for n in range(simulations):\n",
        "      # Generate random number as a probability\n",
        "      r = np.random.uniform()\n",
        "      # Calculate the numbers by weekday\n",
        "      sim_cust = scs.norm.ppf(r, loc=means[i], scale=stdevs[i])\n",
        "      # Math floor of the number\n",
        "      sim_cust = int(sim_cust)\n",
        "      # List store the results for the day\n",
        "      day_sim.append(sim_cust)\n",
        "          \n",
        "      #Store result\n",
        "      results[day] = day_sim\n",
        "\n",
        "  # Plot Histogram\n",
        "  #sns.histplot(results, color='forestgreen')\n",
        "  #plt.title('Histogram of Results MCS')\n",
        "\n",
        "  #Return array\n",
        "  return results\n"
      ],
      "metadata": {
        "id": "MmNdTxupSSws"
      },
      "execution_count": 7,
      "outputs": []
    },
    {
      "cell_type": "code",
      "source": [
        "# Apply the mcs function 500 times\n",
        "r = mcs(500)"
      ],
      "metadata": {
        "id": "pJvafNxpKK8-"
      },
      "execution_count": 8,
      "outputs": []
    },
    {
      "cell_type": "code",
      "source": [
        "# Create simulations by weekday\n",
        "simulations = pd.DataFrame(r)\n",
        "simulations.head(2)"
      ],
      "metadata": {
        "colab": {
          "base_uri": "https://localhost:8080/",
          "height": 111
        },
        "id": "2tlr6OpzprNd",
        "outputId": "58fe2757-cd3f-470e-9d3a-6c693c2775a0"
      },
      "execution_count": 9,
      "outputs": [
        {
          "output_type": "execute_result",
          "data": {
            "text/plain": [
              "   Mon  Tue  Wed  Thu  Fri  Sat  Sun\n",
              "0  179  189   30  183  199  224  213\n",
              "1  174  181  211  159  115  211  262"
            ],
            "text/html": [
              "\n",
              "  <div id=\"df-be09d121-3f17-486a-afb0-4e62691bdd79\">\n",
              "    <div class=\"colab-df-container\">\n",
              "      <div>\n",
              "<style scoped>\n",
              "    .dataframe tbody tr th:only-of-type {\n",
              "        vertical-align: middle;\n",
              "    }\n",
              "\n",
              "    .dataframe tbody tr th {\n",
              "        vertical-align: top;\n",
              "    }\n",
              "\n",
              "    .dataframe thead th {\n",
              "        text-align: right;\n",
              "    }\n",
              "</style>\n",
              "<table border=\"1\" class=\"dataframe\">\n",
              "  <thead>\n",
              "    <tr style=\"text-align: right;\">\n",
              "      <th></th>\n",
              "      <th>Mon</th>\n",
              "      <th>Tue</th>\n",
              "      <th>Wed</th>\n",
              "      <th>Thu</th>\n",
              "      <th>Fri</th>\n",
              "      <th>Sat</th>\n",
              "      <th>Sun</th>\n",
              "    </tr>\n",
              "  </thead>\n",
              "  <tbody>\n",
              "    <tr>\n",
              "      <th>0</th>\n",
              "      <td>179</td>\n",
              "      <td>189</td>\n",
              "      <td>30</td>\n",
              "      <td>183</td>\n",
              "      <td>199</td>\n",
              "      <td>224</td>\n",
              "      <td>213</td>\n",
              "    </tr>\n",
              "    <tr>\n",
              "      <th>1</th>\n",
              "      <td>174</td>\n",
              "      <td>181</td>\n",
              "      <td>211</td>\n",
              "      <td>159</td>\n",
              "      <td>115</td>\n",
              "      <td>211</td>\n",
              "      <td>262</td>\n",
              "    </tr>\n",
              "  </tbody>\n",
              "</table>\n",
              "</div>\n",
              "      <button class=\"colab-df-convert\" onclick=\"convertToInteractive('df-be09d121-3f17-486a-afb0-4e62691bdd79')\"\n",
              "              title=\"Convert this dataframe to an interactive table.\"\n",
              "              style=\"display:none;\">\n",
              "        \n",
              "  <svg xmlns=\"http://www.w3.org/2000/svg\" height=\"24px\"viewBox=\"0 0 24 24\"\n",
              "       width=\"24px\">\n",
              "    <path d=\"M0 0h24v24H0V0z\" fill=\"none\"/>\n",
              "    <path d=\"M18.56 5.44l.94 2.06.94-2.06 2.06-.94-2.06-.94-.94-2.06-.94 2.06-2.06.94zm-11 1L8.5 8.5l.94-2.06 2.06-.94-2.06-.94L8.5 2.5l-.94 2.06-2.06.94zm10 10l.94 2.06.94-2.06 2.06-.94-2.06-.94-.94-2.06-.94 2.06-2.06.94z\"/><path d=\"M17.41 7.96l-1.37-1.37c-.4-.4-.92-.59-1.43-.59-.52 0-1.04.2-1.43.59L10.3 9.45l-7.72 7.72c-.78.78-.78 2.05 0 2.83L4 21.41c.39.39.9.59 1.41.59.51 0 1.02-.2 1.41-.59l7.78-7.78 2.81-2.81c.8-.78.8-2.07 0-2.86zM5.41 20L4 18.59l7.72-7.72 1.47 1.35L5.41 20z\"/>\n",
              "  </svg>\n",
              "      </button>\n",
              "      \n",
              "  <style>\n",
              "    .colab-df-container {\n",
              "      display:flex;\n",
              "      flex-wrap:wrap;\n",
              "      gap: 12px;\n",
              "    }\n",
              "\n",
              "    .colab-df-convert {\n",
              "      background-color: #E8F0FE;\n",
              "      border: none;\n",
              "      border-radius: 50%;\n",
              "      cursor: pointer;\n",
              "      display: none;\n",
              "      fill: #1967D2;\n",
              "      height: 32px;\n",
              "      padding: 0 0 0 0;\n",
              "      width: 32px;\n",
              "    }\n",
              "\n",
              "    .colab-df-convert:hover {\n",
              "      background-color: #E2EBFA;\n",
              "      box-shadow: 0px 1px 2px rgba(60, 64, 67, 0.3), 0px 1px 3px 1px rgba(60, 64, 67, 0.15);\n",
              "      fill: #174EA6;\n",
              "    }\n",
              "\n",
              "    [theme=dark] .colab-df-convert {\n",
              "      background-color: #3B4455;\n",
              "      fill: #D2E3FC;\n",
              "    }\n",
              "\n",
              "    [theme=dark] .colab-df-convert:hover {\n",
              "      background-color: #434B5C;\n",
              "      box-shadow: 0px 1px 3px 1px rgba(0, 0, 0, 0.15);\n",
              "      filter: drop-shadow(0px 1px 2px rgba(0, 0, 0, 0.3));\n",
              "      fill: #FFFFFF;\n",
              "    }\n",
              "  </style>\n",
              "\n",
              "      <script>\n",
              "        const buttonEl =\n",
              "          document.querySelector('#df-be09d121-3f17-486a-afb0-4e62691bdd79 button.colab-df-convert');\n",
              "        buttonEl.style.display =\n",
              "          google.colab.kernel.accessAllowed ? 'block' : 'none';\n",
              "\n",
              "        async function convertToInteractive(key) {\n",
              "          const element = document.querySelector('#df-be09d121-3f17-486a-afb0-4e62691bdd79');\n",
              "          const dataTable =\n",
              "            await google.colab.kernel.invokeFunction('convertToInteractive',\n",
              "                                                     [key], {});\n",
              "          if (!dataTable) return;\n",
              "\n",
              "          const docLinkHtml = 'Like what you see? Visit the ' +\n",
              "            '<a target=\"_blank\" href=https://colab.research.google.com/notebooks/data_table.ipynb>data table notebook</a>'\n",
              "            + ' to learn more about interactive tables.';\n",
              "          element.innerHTML = '';\n",
              "          dataTable['output_type'] = 'display_data';\n",
              "          await google.colab.output.renderOutput(dataTable, element);\n",
              "          const docLink = document.createElement('div');\n",
              "          docLink.innerHTML = docLinkHtml;\n",
              "          element.appendChild(docLink);\n",
              "        }\n",
              "      </script>\n",
              "    </div>\n",
              "  </div>\n",
              "  "
            ]
          },
          "metadata": {},
          "execution_count": 9
        }
      ]
    },
    {
      "cell_type": "code",
      "source": [
        "simulations.mean().to_frame().T"
      ],
      "metadata": {
        "id": "ob1FioEK0sP9",
        "outputId": "cb08b2e2-459f-4b68-d6d9-0ddfb0278bfb",
        "colab": {
          "base_uri": "https://localhost:8080/",
          "height": 80
        }
      },
      "execution_count": 10,
      "outputs": [
        {
          "output_type": "execute_result",
          "data": {
            "text/plain": [
              "       Mon      Tue      Wed     Thu      Fri      Sat      Sun\n",
              "0  175.306  197.278  176.518  192.63  214.198  198.216  226.942"
            ],
            "text/html": [
              "\n",
              "  <div id=\"df-a936cb19-6712-4fc4-b7e2-d62439c3066e\">\n",
              "    <div class=\"colab-df-container\">\n",
              "      <div>\n",
              "<style scoped>\n",
              "    .dataframe tbody tr th:only-of-type {\n",
              "        vertical-align: middle;\n",
              "    }\n",
              "\n",
              "    .dataframe tbody tr th {\n",
              "        vertical-align: top;\n",
              "    }\n",
              "\n",
              "    .dataframe thead th {\n",
              "        text-align: right;\n",
              "    }\n",
              "</style>\n",
              "<table border=\"1\" class=\"dataframe\">\n",
              "  <thead>\n",
              "    <tr style=\"text-align: right;\">\n",
              "      <th></th>\n",
              "      <th>Mon</th>\n",
              "      <th>Tue</th>\n",
              "      <th>Wed</th>\n",
              "      <th>Thu</th>\n",
              "      <th>Fri</th>\n",
              "      <th>Sat</th>\n",
              "      <th>Sun</th>\n",
              "    </tr>\n",
              "  </thead>\n",
              "  <tbody>\n",
              "    <tr>\n",
              "      <th>0</th>\n",
              "      <td>175.306</td>\n",
              "      <td>197.278</td>\n",
              "      <td>176.518</td>\n",
              "      <td>192.63</td>\n",
              "      <td>214.198</td>\n",
              "      <td>198.216</td>\n",
              "      <td>226.942</td>\n",
              "    </tr>\n",
              "  </tbody>\n",
              "</table>\n",
              "</div>\n",
              "      <button class=\"colab-df-convert\" onclick=\"convertToInteractive('df-a936cb19-6712-4fc4-b7e2-d62439c3066e')\"\n",
              "              title=\"Convert this dataframe to an interactive table.\"\n",
              "              style=\"display:none;\">\n",
              "        \n",
              "  <svg xmlns=\"http://www.w3.org/2000/svg\" height=\"24px\"viewBox=\"0 0 24 24\"\n",
              "       width=\"24px\">\n",
              "    <path d=\"M0 0h24v24H0V0z\" fill=\"none\"/>\n",
              "    <path d=\"M18.56 5.44l.94 2.06.94-2.06 2.06-.94-2.06-.94-.94-2.06-.94 2.06-2.06.94zm-11 1L8.5 8.5l.94-2.06 2.06-.94-2.06-.94L8.5 2.5l-.94 2.06-2.06.94zm10 10l.94 2.06.94-2.06 2.06-.94-2.06-.94-.94-2.06-.94 2.06-2.06.94z\"/><path d=\"M17.41 7.96l-1.37-1.37c-.4-.4-.92-.59-1.43-.59-.52 0-1.04.2-1.43.59L10.3 9.45l-7.72 7.72c-.78.78-.78 2.05 0 2.83L4 21.41c.39.39.9.59 1.41.59.51 0 1.02-.2 1.41-.59l7.78-7.78 2.81-2.81c.8-.78.8-2.07 0-2.86zM5.41 20L4 18.59l7.72-7.72 1.47 1.35L5.41 20z\"/>\n",
              "  </svg>\n",
              "      </button>\n",
              "      \n",
              "  <style>\n",
              "    .colab-df-container {\n",
              "      display:flex;\n",
              "      flex-wrap:wrap;\n",
              "      gap: 12px;\n",
              "    }\n",
              "\n",
              "    .colab-df-convert {\n",
              "      background-color: #E8F0FE;\n",
              "      border: none;\n",
              "      border-radius: 50%;\n",
              "      cursor: pointer;\n",
              "      display: none;\n",
              "      fill: #1967D2;\n",
              "      height: 32px;\n",
              "      padding: 0 0 0 0;\n",
              "      width: 32px;\n",
              "    }\n",
              "\n",
              "    .colab-df-convert:hover {\n",
              "      background-color: #E2EBFA;\n",
              "      box-shadow: 0px 1px 2px rgba(60, 64, 67, 0.3), 0px 1px 3px 1px rgba(60, 64, 67, 0.15);\n",
              "      fill: #174EA6;\n",
              "    }\n",
              "\n",
              "    [theme=dark] .colab-df-convert {\n",
              "      background-color: #3B4455;\n",
              "      fill: #D2E3FC;\n",
              "    }\n",
              "\n",
              "    [theme=dark] .colab-df-convert:hover {\n",
              "      background-color: #434B5C;\n",
              "      box-shadow: 0px 1px 3px 1px rgba(0, 0, 0, 0.15);\n",
              "      filter: drop-shadow(0px 1px 2px rgba(0, 0, 0, 0.3));\n",
              "      fill: #FFFFFF;\n",
              "    }\n",
              "  </style>\n",
              "\n",
              "      <script>\n",
              "        const buttonEl =\n",
              "          document.querySelector('#df-a936cb19-6712-4fc4-b7e2-d62439c3066e button.colab-df-convert');\n",
              "        buttonEl.style.display =\n",
              "          google.colab.kernel.accessAllowed ? 'block' : 'none';\n",
              "\n",
              "        async function convertToInteractive(key) {\n",
              "          const element = document.querySelector('#df-a936cb19-6712-4fc4-b7e2-d62439c3066e');\n",
              "          const dataTable =\n",
              "            await google.colab.kernel.invokeFunction('convertToInteractive',\n",
              "                                                     [key], {});\n",
              "          if (!dataTable) return;\n",
              "\n",
              "          const docLinkHtml = 'Like what you see? Visit the ' +\n",
              "            '<a target=\"_blank\" href=https://colab.research.google.com/notebooks/data_table.ipynb>data table notebook</a>'\n",
              "            + ' to learn more about interactive tables.';\n",
              "          element.innerHTML = '';\n",
              "          dataTable['output_type'] = 'display_data';\n",
              "          await google.colab.output.renderOutput(dataTable, element);\n",
              "          const docLink = document.createElement('div');\n",
              "          docLink.innerHTML = docLinkHtml;\n",
              "          element.appendChild(docLink);\n",
              "        }\n",
              "      </script>\n",
              "    </div>\n",
              "  </div>\n",
              "  "
            ]
          },
          "metadata": {},
          "execution_count": 10
        }
      ]
    },
    {
      "cell_type": "code",
      "source": [
        "# Setup figure\n",
        "fig, ax = plt.subplots(figsize=(21,10), tight_layout= True)\n",
        "# Plot Monday Original\n",
        "plt.subplot(2, 7, 1)\n",
        "sns.histplot(data=df_cust.query('wkday == \"Mon\"'), x='customers')\n",
        "plt.title('Mondays: original')\n",
        "# Plot Monday Simulated\n",
        "plt.subplot(2, 7, 8)\n",
        "sns.histplot(data=simulations, x='Mon', color='forestgreen', bins=5)\n",
        "plt.title('Mondays: simulated');\n",
        "\n",
        "#---\n",
        "\n",
        "# Plot Tuesday Original\n",
        "plt.subplot(2, 7, 2)\n",
        "sns.histplot(data=df_cust.query('wkday == \"Tue\"'), x='customers')\n",
        "plt.title('Tuesdays: original')\n",
        "# Plot Tuesday Simulated\n",
        "plt.subplot(2, 7, 9)\n",
        "sns.histplot(data=simulations, x='Tue', color='forestgreen', bins=5)\n",
        "plt.title('Tuesdays: simulated');\n",
        "\n",
        "#---\n",
        "\n",
        "# Plot Wednesday Original\n",
        "plt.subplot(2, 7, 3)\n",
        "sns.histplot(data=df_cust.query('wkday == \"Wed\"'), x='customers')\n",
        "plt.title('Wednesdays: original')\n",
        "# Plot Wednesday Simulated\n",
        "plt.subplot(2, 7, 10)\n",
        "sns.histplot(data=simulations, x='Wed', color='forestgreen', bins=5)\n",
        "plt.title('Wednesdays: simulated');\n",
        "\n",
        "#---\n",
        "\n",
        "# Plot Thursdays Original\n",
        "plt.subplot(2, 7, 4)\n",
        "sns.histplot(data=df_cust.query('wkday == \"Thu\"'), x='customers')\n",
        "plt.title('Thursday: original')\n",
        "# Plot Thursdays Simulated\n",
        "plt.subplot(2, 7, 11)\n",
        "sns.histplot(data=simulations, x='Thu', color='forestgreen', bins=5)\n",
        "plt.title('Thursday: simulated');\n",
        "\n",
        "#---\n",
        "\n",
        "# Plot Fridays Original\n",
        "plt.subplot(2, 7, 5)\n",
        "sns.histplot(data=df_cust.query('wkday == \"Fri\"'), x='customers')\n",
        "plt.title('Fridays: original')\n",
        "\n",
        "# Plot Fridays Simulated\n",
        "plt.subplot(2, 7, 12)\n",
        "sns.histplot(data=simulations, x='Fri', color='forestgreen', bins=5)\n",
        "plt.title('Fridays: simulated');\n",
        "\n",
        "#---\n",
        "\n",
        "# Plot Saturdays Original\n",
        "plt.subplot(2, 7, 6)\n",
        "sns.histplot(data=df_cust.query('wkday == \"Sat\"'), x='customers')\n",
        "plt.title('Saturdays: original');\n",
        "\n",
        "# Plot Saturdays Simulated\n",
        "plt.subplot(2, 7, 13)\n",
        "sns.histplot(data=simulations, x='Sat', color='forestgreen', bins=5)\n",
        "plt.title('Saturdays: simulated');\n",
        "\n",
        "#---\n",
        "\n",
        "# Plot Sundays Original\n",
        "plt.subplot(2, 7, 7)\n",
        "sns.histplot(data=df_cust.query('wkday == \"Sun\"'), x='customers')\n",
        "plt.title('Sundays: original')\n",
        "\n",
        "# Plot Sundays Simulated\n",
        "plt.subplot(2, 7, 14)\n",
        "sns.histplot(data=simulations, x='Sun', color='forestgreen', bins=5)\n",
        "plt.title('Sundays: simulated');\n"
      ],
      "metadata": {
        "colab": {
          "base_uri": "https://localhost:8080/",
          "height": 359
        },
        "id": "2WM_zdK5gJFq",
        "outputId": "3c08afd2-4a03-4113-f3c7-72f937f8d6e8"
      },
      "execution_count": 11,
      "outputs": [
        {
          "output_type": "display_data",
          "data": {
            "text/plain": [
              "<Figure size 1512x720 with 14 Axes>"
            ],
            "image/png": "[encoded data removed]"
          },
          "metadata": {
            "needs_background": "light"
          }
        }
      ]
    },
    {
      "cell_type": "code",
      "source": [
        ""
      ],
      "metadata": {
        "id": "ZVAi_mAXVODr"
      },
      "execution_count": null,
      "outputs": []
    },
    {
      "cell_type": "code",
      "source": [
        ""
      ],
      "metadata": {
        "id": "pHHC7S2j3qMj"
      },
      "execution_count": null,
      "outputs": []
    }
  ]
}