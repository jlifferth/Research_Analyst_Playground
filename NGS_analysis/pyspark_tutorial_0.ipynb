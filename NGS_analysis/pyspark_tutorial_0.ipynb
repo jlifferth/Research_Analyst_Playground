{
 "cells": [
  {
   "cell_type": "code",
   "execution_count": 7,
   "id": "2977d43a",
   "metadata": {},
   "outputs": [],
   "source": [
    "from subprocess import STDOUT, check_call, check_output\n",
    "\n",
    "def install_java_scala():\n",
    "    try:\n",
    "        java_ver = check_output(['java', '-version'], stderr=STDOUT)\n",
    "        print(java_ver)\n",
    "    except:\n",
    "        java_ver = b''\n",
    "    try:\n",
    "        scala_ver = check_output(['scala', '-version'], stderr=STDOUT)\n",
    "        print(scala_ver)\n",
    "    except:\n",
    "        scala_ver = b''\n",
    "    if b'1.8.0_232' not in java_ver:\n",
    "        java_8_install = ['apt-get', '--quiet', 'install',\n",
    "                        '-y', 'openjdk-8-jdk-headless']\n",
    "        java_set_alt = ['update-alternatives', '--set', 'java', \n",
    "                      '/usr/lib/jvm/java-8-openjdk-amd64/jre/bin/java' ] \n",
    "        check_call(java_8_install, stdout=open(os.devnull, 'wb'), \n",
    "                 stderr=STDOUT)\n",
    "        os.environ[\"JAVA_HOME\"] = \"/usr/lib/jvm/java-8-openjdk-amd64\" \n",
    "        check_call(java_set_alt)  \n",
    "    if b'2.11.12' not in scala_ver:\n",
    "        scala_install = ['apt-get', '--quiet', 'install', 'scala']\n",
    "        check_call(scala_install)"
   ]
  },
  {
   "cell_type": "code",
   "execution_count": 9,
   "id": "df4e4354",
   "metadata": {},
   "outputs": [
    {
     "data": {
      "text/plain": [
       "<function __main__.install_java_scala()>"
      ]
     },
     "execution_count": 9,
     "metadata": {},
     "output_type": "execute_result"
    }
   ],
   "source": [
    "install_java_scala"
   ]
  },
  {
   "cell_type": "code",
   "execution_count": 10,
   "id": "f677d370",
   "metadata": {},
   "outputs": [
    {
     "name": "stdout",
     "output_type": "stream",
     "text": [
      "Requirement already satisfied: pyspark in /Users/jonathanlifferth/opt/anaconda3/lib/python3.8/site-packages (3.2.0)\r\n",
      "Requirement already satisfied: py4j==0.10.9.2 in /Users/jonathanlifferth/opt/anaconda3/lib/python3.8/site-packages (from pyspark) (0.10.9.2)\r\n"
     ]
    }
   ],
   "source": [
    "!pip install pyspark"
   ]
  },
  {
   "cell_type": "code",
   "execution_count": 17,
   "id": "e0f0226e",
   "metadata": {},
   "outputs": [
    {
     "name": "stdout",
     "output_type": "stream",
     "text": [
      "--2022-01-19 11:32:35--  https://ftp-trace.ncbi.nlm.nih.gov/sra/sdk/2.9.6-1/sratoolkit.2.9.6-1-ubuntu64.tar.gz\n",
      "Resolving ftp-trace.ncbi.nlm.nih.gov (ftp-trace.ncbi.nlm.nih.gov)... 130.14.250.7, 130.14.250.10\n",
      "Connecting to ftp-trace.ncbi.nlm.nih.gov (ftp-trace.ncbi.nlm.nih.gov)|130.14.250.7|:443... connected.\n",
      "HTTP request sent, awaiting response... 200 OK\n",
      "Length: 84492294 (81M) [application/x-gzip]\n",
      "Saving to: ‘sratoolkit.2.9.6-1-ubuntu64.tar.gz.1’\n",
      "\n",
      "toolkit.2.9.6-1-ubu  11%[=>                  ]   8.95M  2.45MB/s    eta 49s    ^C\n",
      "sratoolkit.2.9.6-1-ubuntu64.tar already exists -- do you wish to overwrite (y or n)? ^C\n"
     ]
    }
   ],
   "source": [
    "import os\n",
    "\n",
    "#download SRA tool kit\n",
    "def setup_sra_tool(url):\n",
    "  !wget $url\n",
    "  !gunzip sratoolkit.2.9.6-1-ubuntu64.tar.gz\n",
    "  !tar -xf sratoolkit.2.9.6-1-ubuntu64.tar\n",
    "\n",
    "# url of SRA tool kit \n",
    "url_tk= 'https://ftp-trace.ncbi.nlm.nih.gov/sra/sdk/2.9.6-1/sratoolkit.2.9.6-1-ubuntu64.tar.gz'\n",
    "setup_sra_tool(url_tk)\n"
   ]
  },
  {
   "cell_type": "code",
   "execution_count": 21,
   "id": "adee3b34",
   "metadata": {},
   "outputs": [],
   "source": [
    "  \n",
    "#download SRA file and extract fastq\n",
    "def get_sra(url, sra_path):\n",
    "#   os.chdir('/content')\n",
    "  !wget $url\n",
    "  sra_name = url[-11:]\n",
    "  os.chdir(sra_path)\n",
    "  !./fastq-dump /content/$sra_name -O /content/\n",
    "#   os.chdir('/content')\n"
   ]
  },
  {
   "cell_type": "code",
   "execution_count": 22,
   "id": "b472033a",
   "metadata": {},
   "outputs": [
    {
     "name": "stdout",
     "output_type": "stream",
     "text": [
      "--2022-01-19 11:33:44--  https://sra-download.ncbi.nlm.nih.gov/traces/era6/ERR/ERR3014/ERR3014700\n",
      "Resolving sra-download.ncbi.nlm.nih.gov (sra-download.ncbi.nlm.nih.gov)... 165.112.9.235, 130.14.250.24, 165.112.9.232\n",
      "Connecting to sra-download.ncbi.nlm.nih.gov (sra-download.ncbi.nlm.nih.gov)|165.112.9.235|:443... connected.\n",
      "HTTP request sent, awaiting response... 404 Not Found\n",
      "2022-01-19 11:33:44 ERROR 404: Not Found.\n",
      "\n",
      "zsh:1: exec format error: ./fastq-dump\n"
     ]
    }
   ],
   "source": [
    "# example SRA file\n",
    "sra_url = 'https://sra-download.ncbi.nlm.nih.gov/traces/era6/ERR/ERR3014/ERR3014700'\n",
    "tool_path = 'sratoolkit.2.9.6-1-ubuntu64/bin'\n",
    "get_sra(sra_url, tool_path)"
   ]
  },
  {
   "cell_type": "code",
   "execution_count": 15,
   "id": "46958106",
   "metadata": {},
   "outputs": [
    {
     "ename": "ModuleNotFoundError",
     "evalue": "No module named 'pyspark'",
     "output_type": "error",
     "traceback": [
      "\u001b[0;31m---------------------------------------------------------------------------\u001b[0m",
      "\u001b[0;31mModuleNotFoundError\u001b[0m                       Traceback (most recent call last)",
      "\u001b[0;32m/var/folders/sw/bhwsqj457gg7f1ycx1_p1j480000gn/T/ipykernel_23558/3213419212.py\u001b[0m in \u001b[0;36m<module>\u001b[0;34m\u001b[0m\n\u001b[0;32m----> 1\u001b[0;31m \u001b[0;32mimport\u001b[0m \u001b[0mpyspark\u001b[0m \u001b[0;32mas\u001b[0m \u001b[0mspark\u001b[0m\u001b[0;34m\u001b[0m\u001b[0;34m\u001b[0m\u001b[0m\n\u001b[0m\u001b[1;32m      2\u001b[0m \u001b[0;32mfrom\u001b[0m \u001b[0mpyspark\u001b[0m \u001b[0;32mimport\u001b[0m \u001b[0mSparkConf\u001b[0m\u001b[0;34m\u001b[0m\u001b[0;34m\u001b[0m\u001b[0m\n\u001b[1;32m      3\u001b[0m \u001b[0;34m\u001b[0m\u001b[0m\n\u001b[1;32m      4\u001b[0m \u001b[0;32mdef\u001b[0m \u001b[0mset_conf\u001b[0m\u001b[0;34m(\u001b[0m\u001b[0;34m)\u001b[0m\u001b[0;34m:\u001b[0m\u001b[0;34m\u001b[0m\u001b[0;34m\u001b[0m\u001b[0m\n\u001b[1;32m      5\u001b[0m     \u001b[0mconf\u001b[0m \u001b[0;34m=\u001b[0m \u001b[0mSparkConf\u001b[0m\u001b[0;34m(\u001b[0m\u001b[0;34m)\u001b[0m\u001b[0;34m.\u001b[0m\u001b[0msetAppName\u001b[0m\u001b[0;34m(\u001b[0m\u001b[0;34m\"App\"\u001b[0m\u001b[0;34m)\u001b[0m\u001b[0;34m\u001b[0m\u001b[0;34m\u001b[0m\u001b[0m\n",
      "\u001b[0;31mModuleNotFoundError\u001b[0m: No module named 'pyspark'"
     ]
    }
   ],
   "source": [
    "import pyspark as spark\n",
    "from pyspark import SparkConf\n",
    "\n",
    "def set_conf():\n",
    "    conf = SparkConf().setAppName(\"App\")\n",
    "    conf = (conf.setMaster('local[*]')\n",
    "      .set('spark.executor.memory', '4G')\n",
    "      .set('spark.driver.memory', '16G')\n",
    "      .set('spark.driver.maxResultSize', '8G'))\n",
    "    return conf\n",
    "\n",
    "sc = spark.SparkContext.getOrCreate(conf=set_conf())\n"
   ]
  }
 ],
 "metadata": {
  "kernelspec": {
   "display_name": "Python 3 (ipykernel)",
   "language": "python",
   "name": "python3"
  },
  "language_info": {
   "codemirror_mode": {
    "name": "ipython",
    "version": 3
   },
   "file_extension": ".py",
   "mimetype": "text/x-python",
   "name": "python",
   "nbconvert_exporter": "python",
   "pygments_lexer": "ipython3",
   "version": "3.9.6"
  }
 },
 "nbformat": 4,
 "nbformat_minor": 5
}
