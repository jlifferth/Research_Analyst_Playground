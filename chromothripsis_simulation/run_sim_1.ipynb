{
 "cells": [
  {
   "cell_type": "code",
   "execution_count": 79,
   "id": "937fd075",
   "metadata": {},
   "outputs": [],
   "source": [
    "import seaborn as sns"
   ]
  },
  {
   "cell_type": "code",
   "execution_count": 114,
   "id": "7a98aa2f",
   "metadata": {
    "scrolled": true
   },
   "outputs": [
    {
     "name": "stdout",
     "output_type": "stream",
     "text": [
      "Genes\n",
      "['AAAAAAAAAA', 'TTTTTTTTTT', 'CCCCCCCCCC', 'GGGGGGGGGG']\n",
      "..........AAAAAAAAAA..........TTTTTTTTTT..........CCCCCCCCCC..........GGGGGGGGGG..........\n"
     ]
    }
   ],
   "source": [
    "%run sim_1.py"
   ]
  },
  {
   "cell_type": "code",
   "execution_count": 66,
   "id": "00b25403",
   "metadata": {},
   "outputs": [
    {
     "name": "stdout",
     "output_type": "stream",
     "text": [
      "Number of breaks\n",
      "3\n",
      "Break indices\n",
      "[25, 60, 67]\n",
      "..........AAAAAAAAAA....._.....TTTTTTTTTT..........CCCCCCCCC_C....._.....GGGGGGGGGG..........\n",
      "Fragments\n",
      "['.....GGGGGGGGGG..........', 'C.....', '..........AAAAAAAAAA.....', '.....TTTTTTTTTT..........CCCCCCCCC']\n",
      "Shuffled fragments\n",
      "['.....GGGGGGGGGG..........', 'C.....', '..........AAAAAAAAAA.....', '.....TTTTTTTTTT..........CCCCCCCCC']\n",
      "Inverted Fragments\n",
      "['..........GGGGGGGGGG.....', 'C.....', '..........AAAAAAAAAA.....', 'CCCCCCCCC..........TTTTTTTTTT.....']\n",
      "Lost_fragments\n",
      "['..........GGGGGGGGGG.....', 'C.....']\n",
      "31  Nucleotides lost\n",
      "Original genome, length :  90\n",
      "New genome length:  59\n",
      "..........AAAAAAAAAA.....CCCCCCCCC..........TTTTTTTTTT.....\n"
     ]
    },
    {
     "data": {
      "text/plain": [
       "'..........AAAAAAAAAA.....CCCCCCCCC..........TTTTTTTTTT.....'"
      ]
     },
     "execution_count": 66,
     "metadata": {},
     "output_type": "execute_result"
    }
   ],
   "source": [
    "run_chromothripsis(gene_list=genes, genome_str=genome, _print=True)"
   ]
  },
  {
   "cell_type": "code",
   "execution_count": 81,
   "id": "110a26be",
   "metadata": {},
   "outputs": [
    {
     "name": "stdout",
     "output_type": "stream",
     "text": [
      "CPU times: user 16.1 ms, sys: 1.43 ms, total: 17.6 ms\n",
      "Wall time: 17.2 ms\n"
     ]
    }
   ],
   "source": [
    "%%time\n",
    "res = []\n",
    "for i in range(1000):\n",
    "    new_genome = run_chromothripsis(gene_list=genes, genome_str=genome, _print=False)\n",
    "    res.append(new_genome)"
   ]
  },
  {
   "cell_type": "code",
   "execution_count": 76,
   "id": "acf69459",
   "metadata": {},
   "outputs": [],
   "source": [
    "lengths = [len(genome) for genome in res]"
   ]
  },
  {
   "cell_type": "code",
   "execution_count": 80,
   "id": "f815e5f3",
   "metadata": {
    "scrolled": true
   },
   "outputs": [
    {
     "data": {
      "text/plain": [
       "<AxesSubplot:ylabel='Count'>"
      ]
     },
     "execution_count": 80,
     "metadata": {},
     "output_type": "execute_result"
    },
    {
     "data": {
      "image/png": "[encoded data removed]",
      "text/plain": [
       "<Figure size 432x288 with 1 Axes>"
      ]
     },
     "metadata": {
      "needs_background": "light"
     },
     "output_type": "display_data"
    }
   ],
   "source": [
    "sns.histplot(lengths)"
   ]
  },
  {
   "cell_type": "code",
   "execution_count": 82,
   "id": "938697d0",
   "metadata": {},
   "outputs": [],
   "source": [
    "lengths2 = [len(genome) for genome in res]"
   ]
  },
  {
   "cell_type": "code",
   "execution_count": 83,
   "id": "9be644ee",
   "metadata": {
    "scrolled": true
   },
   "outputs": [
    {
     "data": {
      "text/plain": [
       "<AxesSubplot:ylabel='Count'>"
      ]
     },
     "execution_count": 83,
     "metadata": {},
     "output_type": "execute_result"
    },
    {
     "data": {
      "image/png": "[encoded data removed]",
      "text/plain": [
       "<Figure size 432x288 with 1 Axes>"
      ]
     },
     "metadata": {
      "needs_background": "light"
     },
     "output_type": "display_data"
    }
   ],
   "source": [
    "sns.histplot(lengths2)"
   ]
  },
  {
   "cell_type": "code",
   "execution_count": 132,
   "id": "84464683",
   "metadata": {},
   "outputs": [
    {
     "name": "stdout",
     "output_type": "stream",
     "text": [
      "CPU times: user 1.13 s, sys: 6.53 ms, total: 1.14 s\n",
      "Wall time: 1.14 s\n"
     ]
    }
   ],
   "source": [
    "%%time\n",
    "res3 = []\n",
    "for i in range(100000):\n",
    "    new_genome = run_chromothripsis(gene_list=genes, genome_str=genome, _print=False)\n",
    "    res3.append(new_genome)\n",
    "lengths3 = [len(genome) for genome in res3]"
   ]
  },
  {
   "cell_type": "code",
   "execution_count": 133,
   "id": "010c2eda",
   "metadata": {},
   "outputs": [
    {
     "data": {
      "text/plain": [
       "<AxesSubplot:ylabel='Count'>"
      ]
     },
     "execution_count": 133,
     "metadata": {},
     "output_type": "execute_result"
    },
    {
     "data": {
      "image/png": "[encoded data removed]",
      "text/plain": [
       "<Figure size 432x288 with 1 Axes>"
      ]
     },
     "metadata": {
      "needs_background": "light"
     },
     "output_type": "display_data"
    }
   ],
   "source": [
    "sns.histplot(lengths3, binwidth=1, kde=False)"
   ]
  },
  {
   "cell_type": "code",
   "execution_count": 122,
   "id": "c660a124",
   "metadata": {},
   "outputs": [
    {
     "data": {
      "text/plain": [
       "['..........',\n",
       " 'G..........CCCC..........GGGGGGGGG',\n",
       " 'GGGG..........CC..........AAAAAAAAAA..........TTTTTTTTTT...',\n",
       " 'AAA..........TTTTTTTTTT..........CCCCCCCCCC..........GGGGGGGGGG..........',\n",
       " '............GGGGGGGGGG..........']"
      ]
     },
     "execution_count": 122,
     "metadata": {},
     "output_type": "execute_result"
    }
   ],
   "source": [
    "res3[:5]"
   ]
  },
  {
   "cell_type": "code",
   "execution_count": 123,
   "id": "f858ceb6",
   "metadata": {},
   "outputs": [
    {
     "data": {
      "text/plain": [
       "[10, 34, 59, 73, 32]"
      ]
     },
     "execution_count": 123,
     "metadata": {},
     "output_type": "execute_result"
    }
   ],
   "source": [
    "lengths3[:5]"
   ]
  },
  {
   "cell_type": "code",
   "execution_count": 124,
   "id": "2a9e1f75",
   "metadata": {},
   "outputs": [
    {
     "data": {
      "text/plain": [
       "10"
      ]
     },
     "execution_count": 124,
     "metadata": {},
     "output_type": "execute_result"
    }
   ],
   "source": [
    "lengths3.count(0)"
   ]
  },
  {
   "cell_type": "code",
   "execution_count": 125,
   "id": "f6173383",
   "metadata": {},
   "outputs": [
    {
     "data": {
      "text/plain": [
       "17"
      ]
     },
     "execution_count": 125,
     "metadata": {},
     "output_type": "execute_result"
    }
   ],
   "source": [
    "lengths3.count(90)"
   ]
  },
  {
   "cell_type": "code",
   "execution_count": 126,
   "id": "5357e984",
   "metadata": {},
   "outputs": [
    {
     "data": {
      "text/plain": [
       "0"
      ]
     },
     "execution_count": 126,
     "metadata": {},
     "output_type": "execute_result"
    }
   ],
   "source": [
    "lengths3.count(89)"
   ]
  },
  {
   "cell_type": "code",
   "execution_count": null,
   "id": "0143a658",
   "metadata": {},
   "outputs": [],
   "source": []
  }
 ],
 "metadata": {
  "kernelspec": {
   "display_name": "Python 3 (ipykernel)",
   "language": "python",
   "name": "python3"
  },
  "language_info": {
   "codemirror_mode": {
    "name": "ipython",
    "version": 3
   },
   "file_extension": ".py",
   "mimetype": "text/x-python",
   "name": "python",
   "nbconvert_exporter": "python",
   "pygments_lexer": "ipython3",
   "version": "3.8.8"
  }
 },
 "nbformat": 4,
 "nbformat_minor": 5
}
