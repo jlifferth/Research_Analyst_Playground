{
 "cells": [
  {
   "cell_type": "code",
   "execution_count": 67,
   "id": "8a2ebbd2",
   "metadata": {},
   "outputs": [],
   "source": [
    "import seaborn"
   ]
  },
  {
   "cell_type": "code",
   "execution_count": 16,
   "id": "25a84f10",
   "metadata": {
    "scrolled": true
   },
   "outputs": [
    {
     "name": "stdout",
     "output_type": "stream",
     "text": [
      "Genes\n",
      "['AAAAAAAAAA', 'TTTTTTTTTT', 'CCCCCCCCCC', 'GGGGGGGGGG']\n",
      "..........AAAAAAAAAA..........TTTTTTTTTT..........CCCCCCCCCC..........GGGGGGGGGG..........\n"
     ]
    }
   ],
   "source": [
    "%run sim_1.py"
   ]
  },
  {
   "cell_type": "code",
   "execution_count": 66,
   "id": "643ccf28",
   "metadata": {},
   "outputs": [
    {
     "name": "stdout",
     "output_type": "stream",
     "text": [
      "Number of breaks\n",
      "3\n",
      "Break indices\n",
      "[25, 60, 67]\n",
      "..........AAAAAAAAAA....._.....TTTTTTTTTT..........CCCCCCCCC_C....._.....GGGGGGGGGG..........\n",
      "Fragments\n",
      "['.....GGGGGGGGGG..........', 'C.....', '..........AAAAAAAAAA.....', '.....TTTTTTTTTT..........CCCCCCCCC']\n",
      "Shuffled fragments\n",
      "['.....GGGGGGGGGG..........', 'C.....', '..........AAAAAAAAAA.....', '.....TTTTTTTTTT..........CCCCCCCCC']\n",
      "Inverted Fragments\n",
      "['..........GGGGGGGGGG.....', 'C.....', '..........AAAAAAAAAA.....', 'CCCCCCCCC..........TTTTTTTTTT.....']\n",
      "Lost_fragments\n",
      "['..........GGGGGGGGGG.....', 'C.....']\n",
      "31  Nucleotides lost\n",
      "Original genome, length :  90\n",
      "New genome length:  59\n",
      "..........AAAAAAAAAA.....CCCCCCCCC..........TTTTTTTTTT.....\n"
     ]
    },
    {
     "data": {
      "text/plain": [
       "'..........AAAAAAAAAA.....CCCCCCCCC..........TTTTTTTTTT.....'"
      ]
     },
     "execution_count": 66,
     "metadata": {},
     "output_type": "execute_result"
    }
   ],
   "source": [
    "run_chromothripsis(gene_list=genes, genome_str=genome, _print=True)"
   ]
  },
  {
   "cell_type": "code",
   "execution_count": 73,
   "id": "0f22b8ec",
   "metadata": {},
   "outputs": [
    {
     "name": "stdout",
     "output_type": "stream",
     "text": [
      "CPU times: user 1.49 ms, sys: 10 µs, total: 1.5 ms\n",
      "Wall time: 1.51 ms\n"
     ]
    }
   ],
   "source": [
    "%%time\n",
    "res = []\n",
    "for i in range(100):\n",
    "    new_genome = run_chromothripsis(gene_list=genes, genome_str=genome, _print=False)\n",
    "    res.append(new_genome)"
   ]
  },
  {
   "cell_type": "raw",
   "id": "f1d79207",
   "metadata": {},
   "source": []
  }
 ],
 "metadata": {
  "kernelspec": {
   "display_name": "Python 3 (ipykernel)",
   "language": "python",
   "name": "python3"
  },
  "language_info": {
   "codemirror_mode": {
    "name": "ipython",
    "version": 3
   },
   "file_extension": ".py",
   "mimetype": "text/x-python",
   "name": "python",
   "nbconvert_exporter": "python",
   "pygments_lexer": "ipython3",
   "version": "3.8.8"
  }
 },
 "nbformat": 4,
 "nbformat_minor": 5
}
